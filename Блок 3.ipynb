{
 "cells": [
  {
   "cell_type": "code",
   "execution_count": 1,
   "id": "d15ce546",
   "metadata": {},
   "outputs": [],
   "source": [
    "import pandas as pd\n",
    "import numpy as np\n",
    "import matplotlib.pyplot as plt\n",
    "import seaborn as sns"
   ]
  },
  {
   "cell_type": "code",
   "execution_count": 2,
   "id": "6638ea08",
   "metadata": {},
   "outputs": [
    {
     "name": "stdout",
     "output_type": "stream",
     "text": [
      "         Дата  Склад Контрагент Номенклатура  Количество\n",
      "0  2018-01-04      1  address_0    product_0           4\n",
      "1  2018-01-04      1  address_0    product_1           4\n",
      "2  2018-01-04      1  address_0    product_2           5\n",
      "3  2018-01-04      1  address_0    product_3          10\n",
      "4  2018-01-04      1  address_0    product_4           2\n"
     ]
    }
   ],
   "source": [
    "# Прочитайте данные (переменную назовите 'df')\n",
    "df = pd.read_csv('data.csv')\n",
    "\n",
    "# Вывести несколько первых строк таблицы данных\n",
    "print(df.head())"
   ]
  },
  {
   "cell_type": "code",
   "execution_count": null,
   "id": "fe010fc4",
   "metadata": {},
   "outputs": [],
   "source": []
  },
  {
   "cell_type": "markdown",
   "id": "a8e1b306",
   "metadata": {},
   "source": [
    "Проверяем формат столбцов"
   ]
  },
  {
   "cell_type": "code",
   "execution_count": 3,
   "id": "0db7a439",
   "metadata": {},
   "outputs": [],
   "source": [
    "df.columns = ['Дата', 'Склад', 'Контрагент', 'Номенклатура', 'Количество']"
   ]
  },
  {
   "cell_type": "code",
   "execution_count": 4,
   "id": "6cee435a-f791-4a98-8253-2640fa4f798e",
   "metadata": {},
   "outputs": [],
   "source": [
    "df['Дата'] = pd.to_datetime(df['Дата'], errors='coerce')"
   ]
  },
  {
   "cell_type": "code",
   "execution_count": 5,
   "id": "afaaa144-7784-4359-b251-123110434d71",
   "metadata": {},
   "outputs": [
    {
     "name": "stdout",
     "output_type": "stream",
     "text": [
      "<class 'pandas.core.frame.DataFrame'>\n",
      "RangeIndex: 301355 entries, 0 to 301354\n",
      "Data columns (total 5 columns):\n",
      " #   Column        Non-Null Count   Dtype         \n",
      "---  ------        --------------   -----         \n",
      " 0   Дата          301355 non-null  datetime64[ns]\n",
      " 1   Склад         301355 non-null  int64         \n",
      " 2   Контрагент    301355 non-null  object        \n",
      " 3   Номенклатура  301355 non-null  object        \n",
      " 4   Количество    301355 non-null  int64         \n",
      "dtypes: datetime64[ns](1), int64(2), object(2)\n",
      "memory usage: 11.5+ MB\n"
     ]
    },
    {
     "data": {
      "text/plain": [
       "(        Дата  Склад Контрагент Номенклатура  Количество\n",
       " 0 2018-01-04      1  address_0    product_0           4\n",
       " 1 2018-01-04      1  address_0    product_1           4\n",
       " 2 2018-01-04      1  address_0    product_2           5\n",
       " 3 2018-01-04      1  address_0    product_3          10\n",
       " 4 2018-01-04      1  address_0    product_4           2,\n",
       " None)"
      ]
     },
     "execution_count": 5,
     "metadata": {},
     "output_type": "execute_result"
    }
   ],
   "source": [
    "df.head(), df.info()"
   ]
  },
  {
   "cell_type": "markdown",
   "id": "ab427988",
   "metadata": {},
   "source": [
    "Сразу переведем столбец \"Дата\" в правильный формат"
   ]
  },
  {
   "cell_type": "markdown",
   "id": "c117ede9",
   "metadata": {},
   "source": [
    "Сгруппируйте данные по дате, посчитайте количество продаж"
   ]
  },
  {
   "cell_type": "code",
   "execution_count": 6,
   "id": "66085e84",
   "metadata": {},
   "outputs": [],
   "source": [
    "grouped_df = df.groupby('Дата').agg({'Количество': 'sum'}).reset_index()"
   ]
  },
  {
   "cell_type": "markdown",
   "id": "fbfd90ac",
   "metadata": {},
   "source": [
    "Вывести несколько первых строк сгруппированных данных"
   ]
  },
  {
   "cell_type": "code",
   "execution_count": 7,
   "id": "79e12654",
   "metadata": {},
   "outputs": [
    {
     "data": {
      "text/html": [
       "<div>\n",
       "<style scoped>\n",
       "    .dataframe tbody tr th:only-of-type {\n",
       "        vertical-align: middle;\n",
       "    }\n",
       "\n",
       "    .dataframe tbody tr th {\n",
       "        vertical-align: top;\n",
       "    }\n",
       "\n",
       "    .dataframe thead th {\n",
       "        text-align: right;\n",
       "    }\n",
       "</style>\n",
       "<table border=\"1\" class=\"dataframe\">\n",
       "  <thead>\n",
       "    <tr style=\"text-align: right;\">\n",
       "      <th></th>\n",
       "      <th>Дата</th>\n",
       "      <th>Количество</th>\n",
       "    </tr>\n",
       "  </thead>\n",
       "  <tbody>\n",
       "    <tr>\n",
       "      <th>0</th>\n",
       "      <td>2018-01-04</td>\n",
       "      <td>3734</td>\n",
       "    </tr>\n",
       "    <tr>\n",
       "      <th>1</th>\n",
       "      <td>2018-01-05</td>\n",
       "      <td>3643</td>\n",
       "    </tr>\n",
       "    <tr>\n",
       "      <th>2</th>\n",
       "      <td>2018-01-06</td>\n",
       "      <td>3193</td>\n",
       "    </tr>\n",
       "    <tr>\n",
       "      <th>3</th>\n",
       "      <td>2018-01-07</td>\n",
       "      <td>3298</td>\n",
       "    </tr>\n",
       "    <tr>\n",
       "      <th>4</th>\n",
       "      <td>2018-01-09</td>\n",
       "      <td>4055</td>\n",
       "    </tr>\n",
       "  </tbody>\n",
       "</table>\n",
       "</div>"
      ],
      "text/plain": [
       "        Дата  Количество\n",
       "0 2018-01-04        3734\n",
       "1 2018-01-05        3643\n",
       "2 2018-01-06        3193\n",
       "3 2018-01-07        3298\n",
       "4 2018-01-09        4055"
      ]
     },
     "execution_count": 7,
     "metadata": {},
     "output_type": "execute_result"
    }
   ],
   "source": [
    "grouped_df.head()"
   ]
  },
  {
   "cell_type": "markdown",
   "id": "9ce32d36",
   "metadata": {},
   "source": [
    "Нарисуйте график продаж у `grouped_df`"
   ]
  },
  {
   "cell_type": "code",
   "execution_count": 12,
   "id": "b9f91f36-5eee-495a-a866-c9448c170014",
   "metadata": {},
   "outputs": [
    {
     "data": {
      "image/png": "[encoded data removed]",
      "text/plain": [
       "<Figure size 1000x600 with 1 Axes>"
      ]
     },
     "metadata": {},
     "output_type": "display_data"
    }
   ],
   "source": [
    "plt.figure(figsize=(10, 6))\n",
    "plt.plot(df['Дата'], df['Количество'])\n",
    "plt.title('Динамика продаж')\n",
    "plt.xlabel('Дата')\n",
    "plt.ylabel('Количество продаж')\n",
    "plt.grid(True)\n",
    "plt.show()"
   ]
  },
  {
   "cell_type": "markdown",
   "id": "311b54f3",
   "metadata": {},
   "source": [
    "Опишите что вы видите на графике. Ваша задача - максимально описать график"
   ]
  },
  {
   "cell_type": "markdown",
   "id": "a0f8f2f7-fa6b-49d7-813d-eb64fe432042",
   "metadata": {},
   "source": [
    "### Анализ графика продаж демонстрирует ярко выраженную сезонность с пиками и спадами, что характерно для многих рынков. Неравномерность продаж свидетельствует о влиянии не только сезонных факторов, но и других внешних событий, таких как праздничные дни, маркетинговые кампании или разовые крупные заказы, отражающиеся на графике в виде выбросов. Несмотря на эти колебания, можно наблюдать общую тенденцию роста или снижения продаж за анализируемый период."
   ]
  },
  {
   "cell_type": "markdown",
   "id": "85412b89",
   "metadata": {},
   "source": [
    "Найдите строку, у которой максимальный выброс по количеству продаж (нужно найти выброс у `df`)"
   ]
  },
  {
   "cell_type": "code",
   "execution_count": 14,
   "id": "2baebf0c",
   "metadata": {},
   "outputs": [],
   "source": [
    "Q1 = df['Количество'].quantile(0.25)\n",
    "Q3 = df['Количество'].quantile(0.75)\n",
    "IQR = Q3 - Q1\n",
    "lower_bound = Q1 - 1.5 * IQR\n",
    "upper_bound = Q3 + 1.5 * IQR"
   ]
  },
  {
   "cell_type": "code",
   "execution_count": 15,
   "id": "4f4a4894-e7b1-4ad8-a8dd-ebd69c3a5915",
   "metadata": {},
   "outputs": [
    {
     "name": "stdout",
     "output_type": "stream",
     "text": [
      "             Дата  Склад   Контрагент Номенклатура  Количество\n",
      "3      2018-01-04      1    address_0    product_3          10\n",
      "59     2018-01-04      1    address_3    product_6          10\n",
      "142    2018-01-04      1   address_10    product_2          10\n",
      "175    2018-01-04      1   address_14    product_1           9\n",
      "176    2018-01-04      1   address_14    product_2          10\n",
      "...           ...    ...          ...          ...         ...\n",
      "301309 2018-08-31      5  address_169    product_0          10\n",
      "301310 2018-08-31      5  address_169    product_1          20\n",
      "301311 2018-08-31      5  address_169    product_2          15\n",
      "301312 2018-08-31      5  address_169    product_3          10\n",
      "301315 2018-08-31      5  address_169    product_6          15\n",
      "\n",
      "[13140 rows x 5 columns]\n"
     ]
    }
   ],
   "source": [
    "outliers = df[df['Количество'] > upper_bound]\n",
    "print(outliers)"
   ]
  },
  {
   "cell_type": "markdown",
   "id": "30aa9654",
   "metadata": {},
   "source": [
    "Найдите топовый товар по продажам по средам за июнь, июль, август у 3 склада"
   ]
  },
  {
   "cell_type": "code",
   "execution_count": 16,
   "id": "c3d75d16",
   "metadata": {},
   "outputs": [],
   "source": [
    "df_filtered = df[(df['Дата'].dt.dayofweek == 2) &  # Среда\n",
    "                 (df['Склад'] == 3) &\n",
    "                 (df['Дата'].dt.month.isin([6, 7, 8]))]"
   ]
  },
  {
   "cell_type": "code",
   "execution_count": 19,
   "id": "cdd1613d-3552-4875-ba6d-130e09dfa5d4",
   "metadata": {},
   "outputs": [],
   "source": [
    "sales_by_product = df_filtered.groupby('Номенклатура')['Количество'].sum().reset_index()"
   ]
  },
  {
   "cell_type": "code",
   "execution_count": 20,
   "id": "741b1ddc-7335-485e-8466-2f394dafb370",
   "metadata": {},
   "outputs": [],
   "source": [
    "top_product = sales_by_product.sort_values(by='Количество', ascending=False).iloc[0]"
   ]
  },
  {
   "cell_type": "code",
   "execution_count": 21,
   "id": "7c36a3f8-5c6b-4a88-b608-feae7d229f9c",
   "metadata": {},
   "outputs": [
    {
     "name": "stdout",
     "output_type": "stream",
     "text": [
      "Номенклатура    product_1\n",
      "Количество           2267\n",
      "Name: 1, dtype: object\n"
     ]
    }
   ],
   "source": [
    "print(top_product)"
   ]
  },
  {
   "cell_type": "markdown",
   "id": "a37de33d-8629-4ca1-8919-389b09ec69b0",
   "metadata": {},
   "source": [
    "Скачайте данные по погоде с https://rp5.ru/Архив_погоды_в_Астане (скачайте исходные данные, и далее преобразуйте так, чтобы мы имели Дату и Среднюю температуру за день), объедините таблицу температуры с `grouped_df`, и нарисуйте график `y=['Количество продаж', 'T']`, где Т это температура. А также отдельно график температуры."
   ]
  },
  {
   "cell_type": "code",
   "execution_count": null,
   "id": "4944cf51-d18a-4c65-bf59-121ce3b35e11",
   "metadata": {},
   "outputs": [],
   "source": [
    "df_temp = pd.read_csv('temperature_data.csv')  # Или pd.read_excel, в зависимости от формата\n",
    "df_temp['Дата'] = pd.to_datetime(df_temp['Дата'])  # Приведение даты к единому формату"
   ]
  },
  {
   "cell_type": "code",
   "execution_count": null,
   "id": "363567c2-4d81-4405-a35f-cce7830f2d02",
   "metadata": {},
   "outputs": [],
   "source": [
    "combined_df = pd.merge(grouped_df, df_temp[['Дата', 'Средняя температура за день']], on='Дата', how='left')"
   ]
  },
  {
   "cell_type": "code",
   "execution_count": null,
   "id": "1a970562-9458-47f4-b1f3-c8c35a25553c",
   "metadata": {},
   "outputs": [],
   "source": [
    "combined_df.rename(columns={'Средняя температура за день': 'T'}, inplace=True)"
   ]
  },
  {
   "cell_type": "code",
   "execution_count": null,
   "id": "9fe11691-99c6-42e0-a5a5-e26c5f19496c",
   "metadata": {},
   "outputs": [],
   "source": [
    "fig, ax1 = plt.subplots()\n",
    "\n",
    "ax1.set_xlabel('Дата')\n",
    "ax1.set_ylabel('Количество продаж', color='tab:blue')\n",
    "ax1.plot(combined_df['Дата'], combined_df['Количество продаж'], color='tab:blue')\n",
    "\n",
    "ax2 = ax1.twinx()\n",
    "ax2.set_ylabel('Температура (T)', color='tab:red')\n",
    "ax2.plot(combined_df['Дата'], combined_df['T'], color='tab:red')\n",
    "\n",
    "plt.title('Количество продаж и температура')\n",
    "plt.show()"
   ]
  },
  {
   "cell_type": "code",
   "execution_count": null,
   "id": "f84eddb4-8907-4309-91da-c4d2a1014e94",
   "metadata": {},
   "outputs": [],
   "source": [
    "plt.figure()\n",
    "plt.plot(combined_df['Дата'], combined_df['T'], color='tab:red')\n",
    "plt.xlabel('Дата')\n",
    "plt.ylabel('Температура (T)')\n",
    "plt.title('Температура за период')\n",
    "plt.show()"
   ]
  }
 ],
 "metadata": {
  "kernelspec": {
   "display_name": "Python 3 (ipykernel)",
   "language": "python",
   "name": "python3"
  },
  "language_info": {
   "codemirror_mode": {
    "name": "ipython",
    "version": 3
   },
   "file_extension": ".py",
   "mimetype": "text/x-python",
   "name": "python",
   "nbconvert_exporter": "python",
   "pygments_lexer": "ipython3",
   "version": "3.12.4"
  }
 },
 "nbformat": 4,
 "nbformat_minor": 5
}
